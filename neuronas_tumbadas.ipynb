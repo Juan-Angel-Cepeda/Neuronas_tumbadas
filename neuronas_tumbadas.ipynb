{
 "cells": [
  {
   "cell_type": "code",
   "execution_count": 13,
   "metadata": {},
   "outputs": [],
   "source": [
    "dataset_tumbado = './datasetFinal.txt'"
   ]
  },
  {
   "cell_type": "code",
   "execution_count": 14,
   "metadata": {},
   "outputs": [],
   "source": [
    "from tensorflow import keras as kn"
   ]
  },
  {
   "cell_type": "code",
   "execution_count": 15,
   "metadata": {},
   "outputs": [],
   "source": [
    "with open(dataset_tumbado,encoding='utf-8') as f:\n",
    "    corridos_tumbados_text = f.read()"
   ]
  },
  {
   "cell_type": "code",
   "execution_count": 16,
   "metadata": {},
   "outputs": [],
   "source": [
    "verso = len(\"\"\"[Letra de \"Abriendo el Camino\"]\n",
    "\n",
    "[Verso]\n",
    "Y los errores del pasado me hicieron ver en donde estoy\n",
    "Y adonde voy, también quién soy\n",
    "Salí cabrón, no soy de acción\n",
    "En California ven mis tráilers\n",
    "Ahí festejo y brindando estoy\n",
    "Gracias a Dios ahí va otro gol\n",
    "Billetes son al por mayor'\"\"\")"
   ]
  },
  {
   "cell_type": "code",
   "execution_count": 17,
   "metadata": {},
   "outputs": [],
   "source": [
    "linea = len(\"Salí cabrón, no soy de acción\")"
   ]
  },
  {
   "cell_type": "code",
   "execution_count": 18,
   "metadata": {},
   "outputs": [],
   "source": [
    "tokenizar = kn.preprocessing.text.Tokenizer(char_level=True)\n",
    "tokenizar.fit_on_texts(corridos_tumbados_text)"
   ]
  },
  {
   "cell_type": "code",
   "execution_count": null,
   "metadata": {},
   "outputs": [],
   "source": []
  },
  {
   "cell_type": "code",
   "execution_count": 7,
   "metadata": {},
   "outputs": [
    {
     "data": {
      "text/plain": [
       "[[15, 4, 7, 7, 8, 13, 4, 6, 1, 9, 11, 14, 19, 3, 13, 4, 6]]"
      ]
     },
     "execution_count": 7,
     "metadata": {},
     "output_type": "execute_result"
    }
   ],
   "source": [
    "tokenizar.texts_to_sequences(['Corridos Tumbados'])"
   ]
  },
  {
   "cell_type": "code",
   "execution_count": 8,
   "metadata": {},
   "outputs": [
    {
     "data": {
      "text/plain": [
       "['c o r r i d o s   t u m b a d o s']"
      ]
     },
     "execution_count": 8,
     "metadata": {},
     "output_type": "execute_result"
    }
   ],
   "source": [
    "tokenizar.sequences_to_texts([[15, 4, 7, 7, 8, 13, 4, 6, 1, 9, 11, 14, 19, 3, 13, 4, 6]])"
   ]
  },
  {
   "cell_type": "code",
   "execution_count": 19,
   "metadata": {},
   "outputs": [],
   "source": [
    "max_id = len(tokenizar.word_index)\n",
    "dataset_size = tokenizar.document_count"
   ]
  },
  {
   "cell_type": "code",
   "execution_count": 20,
   "metadata": {},
   "outputs": [],
   "source": [
    "import numpy as np\n",
    "[encoded] = np.array(tokenizar.texts_to_sequences([corridos_tumbados_text])) - 1"
   ]
  },
  {
   "cell_type": "code",
   "execution_count": 21,
   "metadata": {},
   "outputs": [],
   "source": [
    "import tensorflow as tf\n",
    "train_size = int(dataset_size * 90/100)\n",
    "dataset = tf.data.Dataset.from_tensor_slices(encoded[:train_size])"
   ]
  },
  {
   "cell_type": "code",
   "execution_count": 22,
   "metadata": {},
   "outputs": [],
   "source": [
    "n_steps = verso\n",
    "window_length = n_steps + linea"
   ]
  },
  {
   "cell_type": "code",
   "execution_count": 23,
   "metadata": {},
   "outputs": [],
   "source": [
    "tf.random.set_seed(42)\n",
    "batch_size = 32\n",
    "encoded_parts = np.array_split(encoded[:train_size],batch_size)\n",
    "datasets = []\n",
    "for encoded_part in encoded_parts:\n",
    "    dataset = tf.data.Dataset.from_tensor_slices(encoded_part)\n",
    "    dataset = dataset.window(window_length,shift=n_steps,drop_remainder=True)\n",
    "    dataset = dataset.flat_map(lambda window: window.batch(window_length))\n",
    "    datasets.append(dataset)\n",
    "dataset = tf.data.Dataset.zip(tuple(datasets)).map(lambda *windows: tf.stack(windows))\n",
    "dataset = dataset.map(lambda windows:(windows[:,:-1],windows[:,1:]))\n",
    "dataset = dataset.map(\n",
    "    lambda X_batch, Y_batch: (tf.one_hot(X_batch,depth=max_id),Y_batch))\n",
    "dataset = dataset.prefetch(1)\n",
    "    "
   ]
  },
  {
   "cell_type": "code",
   "execution_count": 24,
   "metadata": {},
   "outputs": [],
   "source": [
    "from keras.mixed_precision.loss_scale_optimizer import optimizer\n",
    "model = kn.models.Sequential([\n",
    "    kn.layers.GRU(128,return_sequences=True,stateful=True,dropout=0.3, recurrent_dropout=0.3,\n",
    "                  batch_input_shape = [batch_size,None,max_id]),\n",
    "    kn.layers.GRU(128,return_sequences=True,stateful=True,dropout=0.3,recurrent_dropout=0.3),\n",
    "    kn.layers.TimeDistributed(kn.layers.Dense(max_id,activation=\"softmax\"))\n",
    "])\n"
   ]
  },
  {
   "cell_type": "code",
   "execution_count": 25,
   "metadata": {},
   "outputs": [],
   "source": [
    "class ResetStatesCallback(kn.callbacks.Callback):\n",
    "    def on_epoch_begin(self, epoch, logs):\n",
    "        self.model.reset_states()"
   ]
  },
  {
   "cell_type": "code",
   "execution_count": 26,
   "metadata": {},
   "outputs": [],
   "source": [
    "model.compile(loss=\"sparse_categorical_crossentropy\",optimizer=\"adam\")"
   ]
  },
  {
   "cell_type": "code",
   "execution_count": 17,
   "metadata": {},
   "outputs": [
    {
     "name": "stdout",
     "output_type": "stream",
     "text": [
      "Epoch 1/50\n",
      "109/109 [==============================] - 326s 3s/step - loss: 3.2688\n",
      "Epoch 2/50\n",
      "109/109 [==============================] - 387s 4s/step - loss: 2.7811\n",
      "Epoch 3/50\n",
      "109/109 [==============================] - 441s 4s/step - loss: 2.5932\n",
      "Epoch 4/50\n",
      "109/109 [==============================] - 217s 2s/step - loss: 2.5360\n",
      "Epoch 5/50\n",
      "109/109 [==============================] - 231s 2s/step - loss: 2.4291\n",
      "Epoch 6/50\n",
      "109/109 [==============================] - 223s 2s/step - loss: 2.4219\n",
      "Epoch 7/50\n",
      "109/109 [==============================] - 228s 2s/step - loss: 2.3331\n",
      "Epoch 8/50\n",
      "109/109 [==============================] - 229s 2s/step - loss: 2.2883\n",
      "Epoch 9/50\n",
      "109/109 [==============================] - 218s 2s/step - loss: 2.2795\n",
      "Epoch 10/50\n",
      "109/109 [==============================] - 221s 2s/step - loss: 2.2485\n",
      "Epoch 11/50\n",
      "109/109 [==============================] - 227s 2s/step - loss: 2.2969\n",
      "Epoch 12/50\n",
      "109/109 [==============================] - 214s 2s/step - loss: 2.4051\n",
      "Epoch 13/50\n",
      "109/109 [==============================] - 220s 2s/step - loss: 2.3116\n",
      "Epoch 14/50\n",
      "109/109 [==============================] - 216s 2s/step - loss: 2.1704\n",
      "Epoch 15/50\n",
      "109/109 [==============================] - 214s 2s/step - loss: 2.1938\n",
      "Epoch 16/50\n",
      "109/109 [==============================] - 211s 2s/step - loss: 2.2683\n",
      "Epoch 17/50\n",
      "109/109 [==============================] - 215s 2s/step - loss: 2.1325\n",
      "Epoch 18/50\n",
      "109/109 [==============================] - 216s 2s/step - loss: 2.2180\n",
      "Epoch 19/50\n",
      "109/109 [==============================] - 216s 2s/step - loss: 2.1391\n",
      "Epoch 20/50\n",
      "109/109 [==============================] - 221s 2s/step - loss: 2.0643\n",
      "Epoch 21/50\n",
      "109/109 [==============================] - 217s 2s/step - loss: 2.0230\n",
      "Epoch 22/50\n",
      "109/109 [==============================] - 227s 2s/step - loss: 2.0443\n",
      "Epoch 23/50\n",
      "109/109 [==============================] - 229s 2s/step - loss: 2.0031\n",
      "Epoch 24/50\n",
      "109/109 [==============================] - 222s 2s/step - loss: 2.0266\n",
      "Epoch 25/50\n",
      "109/109 [==============================] - 225s 2s/step - loss: 1.9870\n",
      "Epoch 26/50\n",
      "109/109 [==============================] - 219s 2s/step - loss: 1.9791\n",
      "Epoch 27/50\n",
      "109/109 [==============================] - 222s 2s/step - loss: 1.9733\n",
      "Epoch 28/50\n",
      "109/109 [==============================] - 219s 2s/step - loss: 1.9665\n",
      "Epoch 29/50\n",
      "109/109 [==============================] - 224s 2s/step - loss: 1.9587\n",
      "Epoch 30/50\n",
      "109/109 [==============================] - 224s 2s/step - loss: 1.9546\n",
      "Epoch 31/50\n",
      "109/109 [==============================] - 223s 2s/step - loss: 1.9489\n",
      "Epoch 32/50\n",
      "109/109 [==============================] - 222s 2s/step - loss: 1.9431\n",
      "Epoch 33/50\n",
      "109/109 [==============================] - 220s 2s/step - loss: 1.9371\n",
      "Epoch 34/50\n",
      "109/109 [==============================] - 219s 2s/step - loss: 1.9334\n",
      "Epoch 35/50\n",
      "109/109 [==============================] - 217s 2s/step - loss: 1.9296\n",
      "Epoch 36/50\n",
      "109/109 [==============================] - 216s 2s/step - loss: 1.9237\n",
      "Epoch 37/50\n",
      "109/109 [==============================] - 219s 2s/step - loss: 1.9190\n",
      "Epoch 38/50\n",
      "109/109 [==============================] - 218s 2s/step - loss: 1.9158\n",
      "Epoch 39/50\n",
      "109/109 [==============================] - 218s 2s/step - loss: 1.9129\n",
      "Epoch 40/50\n",
      "109/109 [==============================] - 218s 2s/step - loss: 1.9095\n",
      "Epoch 41/50\n",
      "109/109 [==============================] - 219s 2s/step - loss: 1.9045\n",
      "Epoch 42/50\n",
      "109/109 [==============================] - 221s 2s/step - loss: 1.9012\n",
      "Epoch 43/50\n",
      "109/109 [==============================] - 221s 2s/step - loss: 1.8974\n",
      "Epoch 44/50\n",
      "109/109 [==============================] - 218s 2s/step - loss: 1.8958\n",
      "Epoch 45/50\n",
      "109/109 [==============================] - 219s 2s/step - loss: 1.8913\n",
      "Epoch 46/50\n",
      "109/109 [==============================] - 222s 2s/step - loss: 1.8890\n",
      "Epoch 47/50\n",
      "109/109 [==============================] - 221s 2s/step - loss: 1.8863\n",
      "Epoch 48/50\n",
      "109/109 [==============================] - 227s 2s/step - loss: 1.8837\n",
      "Epoch 49/50\n",
      "109/109 [==============================] - 226s 2s/step - loss: 1.8815\n",
      "Epoch 50/50\n",
      "109/109 [==============================] - 225s 2s/step - loss: 1.8783\n"
     ]
    }
   ],
   "source": [
    "history = model.fit(dataset,epochs=50,callbacks=[ResetStatesCallback()])"
   ]
  },
  {
   "cell_type": "code",
   "execution_count": null,
   "metadata": {},
   "outputs": [],
   "source": [
    "import joblib\n",
    "neuronas_tumbadas = history\n",
    "joblib.dump(neuronas_tumbadas,\"neuronas_tumbadas.pkl\")"
   ]
  },
  {
   "cell_type": "code",
   "execution_count": 20,
   "metadata": {},
   "outputs": [],
   "source": [
    "stateless_model = kn.models.Sequential([\n",
    "    kn.layers.GRU(128,return_sequences=True,input_shape=[None,max_id]),\n",
    "    kn.layers.GRU(128,return_sequences=True),\n",
    "    kn.layers.TimeDistributed(kn.layers.Dense(max_id,activation='softmax'))\n",
    "])"
   ]
  },
  {
   "cell_type": "code",
   "execution_count": 27,
   "metadata": {},
   "outputs": [],
   "source": [
    "modelo_neuronas_tumbadas = joblib.load(\"neuronas_tumbadas.pkl\")\n",
    "#stateless_model.build(tf.TensorShape([None,None,max_id]))\n",
    "#stateless_model.set_weights(modelo_neuronas_tumbadas.get_weights())\n",
    "#modelo_neuronas_tumbadas = stateless_model\n",
    "#joblib.dump(modelo_neuronas_tumbadas,\"modelo-neuronas-tumbadas.pkl\")"
   ]
  },
  {
   "cell_type": "code",
   "execution_count": 28,
   "metadata": {},
   "outputs": [],
   "source": [
    "import numpy as np\n",
    "import tensorflow as tf\n",
    "def preprocess(texts):\n",
    "    X = np.array(tokenizar.texts_to_sequences(texts))-1\n",
    "    return tf.one_hot(X,max_id)"
   ]
  },
  {
   "cell_type": "code",
   "execution_count": 29,
   "metadata": {},
   "outputs": [],
   "source": [
    "def next_char(text,temperature=1):\n",
    "    X_new = preprocess([text])\n",
    "    y_proba = modelo_neuronas_tumbadas.predict(X_new)[0,-1:,:]\n",
    "    rescaled_logits = tf.math.log(y_proba)/temperature\n",
    "    char_id = tf.random.categorical(rescaled_logits,num_samples=1)+1\n",
    "    return tokenizar.sequences_to_texts(char_id.numpy())[0]"
   ]
  },
  {
   "cell_type": "code",
   "execution_count": 30,
   "metadata": {},
   "outputs": [],
   "source": [
    "def generating_corrido_tumbado(text,n_chars = 920,temperature=1):\n",
    "    for _ in range(n_chars):\n",
    "        text += next_char(text,temperature)\n",
    "        corrido = text, '\\n', text\n",
    "        return corrido"
   ]
  },
  {
   "cell_type": "code",
   "execution_count": null,
   "metadata": {},
   "outputs": [],
   "source": [
    "from tensorflow import keras as kn\n",
    "tokenizar = kn.preprocessing.text.Tokenizer(char_level=True)\n",
    "X_new = preprocess([\"Soy belic\"])\n",
    "Y_pred = modelo_neuronas_tumbadas.predict_classes(X_new)\n",
    "tokenizar.sequences_to_texts(Y_pred+1)[0][-1]\n",
    "#expected result 'o'"
   ]
  }
 ],
 "metadata": {
  "kernelspec": {
   "display_name": "Python 3",
   "language": "python",
   "name": "python3"
  },
  "language_info": {
   "codemirror_mode": {
    "name": "ipython",
    "version": 3
   },
   "file_extension": ".py",
   "mimetype": "text/x-python",
   "name": "python",
   "nbconvert_exporter": "python",
   "pygments_lexer": "ipython3",
   "version": "3.10.10"
  },
  "orig_nbformat": 4
 },
 "nbformat": 4,
 "nbformat_minor": 2
}
