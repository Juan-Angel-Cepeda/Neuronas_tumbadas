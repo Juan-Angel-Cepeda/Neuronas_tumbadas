{
 "cells": [
  {
   "cell_type": "code",
   "execution_count": 23,
   "metadata": {},
   "outputs": [],
   "source": [
    "dataset_tumbado = './datasetFinal.txt'"
   ]
  },
  {
   "cell_type": "code",
   "execution_count": 24,
   "metadata": {},
   "outputs": [],
   "source": [
    "from tensorflow import keras as kn"
   ]
  },
  {
   "cell_type": "code",
   "execution_count": 25,
   "metadata": {},
   "outputs": [],
   "source": [
    "with open(dataset_tumbado,encoding='utf-8') as f:\n",
    "    corridos_tumbados_text = f.read()"
   ]
  },
  {
   "cell_type": "code",
   "execution_count": 26,
   "metadata": {},
   "outputs": [],
   "source": [
    "verso = len(\"\"\"[Letra de \"Abriendo el Camino\"]\n",
    "\n",
    "[Verso]\n",
    "Y los errores del pasado me hicieron ver en donde estoy\n",
    "Y adonde voy, también quién soy\n",
    "Salí cabrón, no soy de acción\n",
    "En California ven mis tráilers\n",
    "Ahí festejo y brindando estoy\n",
    "Gracias a Dios ahí va otro gol\n",
    "Billetes son al por mayor'\"\"\")"
   ]
  },
  {
   "cell_type": "code",
   "execution_count": 27,
   "metadata": {},
   "outputs": [],
   "source": [
    "linea = len(\"Salí cabrón, no soy de acción\")"
   ]
  },
  {
   "cell_type": "code",
   "execution_count": 28,
   "metadata": {},
   "outputs": [],
   "source": [
    "tokenizar = kn.preprocessing.text.Tokenizer(char_level=True)\n",
    "tokenizar.fit_on_texts(corridos_tumbados_text)"
   ]
  },
  {
   "cell_type": "code",
   "execution_count": 29,
   "metadata": {},
   "outputs": [
    {
     "data": {
      "text/plain": [
       "[[15, 4, 7, 7, 8, 13, 4, 6, 1, 9, 11, 14, 19, 3, 13, 4, 6]]"
      ]
     },
     "execution_count": 29,
     "metadata": {},
     "output_type": "execute_result"
    }
   ],
   "source": [
    "tokenizar.texts_to_sequences(['Corridos Tumbados'])"
   ]
  },
  {
   "cell_type": "code",
   "execution_count": 30,
   "metadata": {},
   "outputs": [
    {
     "data": {
      "text/plain": [
       "['c o r r i d o s   t u m b a d o s']"
      ]
     },
     "execution_count": 30,
     "metadata": {},
     "output_type": "execute_result"
    }
   ],
   "source": [
    "tokenizar.sequences_to_texts([[15, 4, 7, 7, 8, 13, 4, 6, 1, 9, 11, 14, 19, 3, 13, 4, 6]])"
   ]
  },
  {
   "cell_type": "code",
   "execution_count": 31,
   "metadata": {},
   "outputs": [],
   "source": [
    "max_id = len(tokenizar.word_index)\n",
    "dataset_size = tokenizar.document_count"
   ]
  },
  {
   "cell_type": "code",
   "execution_count": 32,
   "metadata": {},
   "outputs": [],
   "source": [
    "import numpy as np\n",
    "[encoded] = np.array(tokenizar.texts_to_sequences([corridos_tumbados_text])) - 1"
   ]
  },
  {
   "cell_type": "code",
   "execution_count": 33,
   "metadata": {},
   "outputs": [],
   "source": [
    "import tensorflow as tf\n",
    "train_size = int(dataset_size * 90/100)\n",
    "dataset = tf.data.Dataset.from_tensor_slices(encoded[:train_size])"
   ]
  },
  {
   "cell_type": "code",
   "execution_count": 34,
   "metadata": {},
   "outputs": [],
   "source": [
    "n_steps = verso\n",
    "window_length = n_steps + linea\n"
   ]
  },
  {
   "cell_type": "code",
   "execution_count": 37,
   "metadata": {},
   "outputs": [],
   "source": [
    "tf.random.set_seed(42)\n",
    "batch_size = 32\n",
    "encoded_parts = np.array_split(encoded[:train_size],batch_size)\n",
    "datasets = []\n",
    "for encoded_part in encoded_parts:\n",
    "    dataset = tf.data.Dataset.from_tensor_slices(encoded_part)\n",
    "    dataset = dataset.window(window_length,shift=n_steps,drop_remainder=True)\n",
    "    dataset = dataset.flat_map(lambda window: window.batch(window_length))\n",
    "    datasets.append(dataset)\n",
    "dataset = tf.data.Dataset.zip(tuple(datasets)).map(lambda *windows: tf.stack(windows))\n",
    "dataset = dataset.map(lambda windows:(windows[:,:-1],windows[:,1:]))\n",
    "dataset = dataset.map(\n",
    "    lambda X_batch, Y_batch: (tf.one_hot(X_batch,depth=max_id),Y_batch))\n",
    "dataset = dataset.prefetch(1)\n",
    "    "
   ]
  },
  {
   "cell_type": "code",
   "execution_count": 38,
   "metadata": {},
   "outputs": [],
   "source": [
    "from keras.mixed_precision.loss_scale_optimizer import optimizer\n",
    "model = kn.models.Sequential([\n",
    "    kn.layers.GRU(128,return_sequences=True,stateful=True,dropout=0.3, recurrent_dropout=0.3,\n",
    "                  batch_input_shape = [batch_size,None,max_id]),\n",
    "    kn.layers.GRU(128,return_sequences=True,stateful=True,dropout=0.3,recurrent_dropout=0.3),\n",
    "    kn.layers.TimeDistributed(kn.layers.Dense(max_id,activation=\"softmax\"))\n",
    "])\n"
   ]
  },
  {
   "cell_type": "code",
   "execution_count": 39,
   "metadata": {},
   "outputs": [],
   "source": [
    "class ResetStatesCallback(kn.callbacks.Callback):\n",
    "    def on_epoch_begin(self, epoch, logs):\n",
    "        self.model.reset_states()"
   ]
  },
  {
   "cell_type": "code",
   "execution_count": 40,
   "metadata": {},
   "outputs": [],
   "source": [
    "model.compile(loss=\"sparse_categorical_crossentropy\",optimizer=\"adam\")"
   ]
  },
  {
   "cell_type": "code",
   "execution_count": 41,
   "metadata": {},
   "outputs": [
    {
     "name": "stdout",
     "output_type": "stream",
     "text": [
      "Epoch 1/50\n",
      "109/109 [==============================] - 237s 2s/step - loss: 3.2647\n",
      "Epoch 2/50\n",
      "109/109 [==============================] - 242s 2s/step - loss: 2.7679\n",
      "Epoch 3/50\n",
      "109/109 [==============================] - 248s 2s/step - loss: 2.5890\n",
      "Epoch 4/50\n",
      "109/109 [==============================] - 241s 2s/step - loss: 2.5144\n",
      "Epoch 5/50\n",
      "109/109 [==============================] - 243s 2s/step - loss: 2.4159\n",
      "Epoch 6/50\n",
      " 58/109 [==============>...............] - ETA: 1:55 - loss: 2.3718"
     ]
    }
   ],
   "source": [
    "history = model.fit(dataset,epochs=50,callbacks=[ResetStatesCallback()])"
   ]
  },
  {
   "cell_type": "code",
   "execution_count": null,
   "metadata": {},
   "outputs": [],
   "source": [
    "import joblib\n",
    "neuronas_tumbadas = history\n",
    "joblib.dump(neuronas_tumbadas,\"neuronas_tumbadas.pkl\")"
   ]
  },
  {
   "cell_type": "code",
   "execution_count": null,
   "metadata": {},
   "outputs": [],
   "source": [
    "stateless_model = kn.models.Sequential([\n",
    "    kn.layers.GRU(128,return_sequences=True,input_shape=[None,max_id]),\n",
    "    kn.layers.GRU(128,return_sequences=True),\n",
    "    kn.layers.TimeDistributed(kn.layers.Dense(max_id),activation='softmax')\n",
    "])"
   ]
  },
  {
   "cell_type": "code",
   "execution_count": null,
   "metadata": {},
   "outputs": [],
   "source": [
    "modelo_neuronas_tumbadas = joblib.load(\"neuronas_tumbadas.pkl\")\n",
    "stateless_model.build(tf.TensorShape([None,None,max_id]))\n",
    "stateless_model.set_weights(modelo_neuronas_tumbadas.get_weights())\n",
    "modelo_neuronas_tumbadas = stateless_model"
   ]
  },
  {
   "cell_type": "code",
   "execution_count": null,
   "metadata": {},
   "outputs": [],
   "source": [
    "def preprocess(texts):\n",
    "    X = np.array(tokenizar.texts_to_sequences(texts))-1\n",
    "    return tf.one_hot(X,max_id)"
   ]
  },
  {
   "cell_type": "code",
   "execution_count": null,
   "metadata": {},
   "outputs": [],
   "source": [
    "def next_char(text,temperature=1):\n",
    "    X_new = preprocess([text])\n",
    "    y_proba = modelo_neuronas_tumbadas.predict(X_new)[0,-1:,:]\n",
    "    rescaled_logits = tf.math.log(y_proba)/temperature\n",
    "    char_id = tf.random.categorical(rescaled_logits,num_samples=1)+1\n",
    "    return tokenizar.sequences_to_texts(char_id.numpy())[0]"
   ]
  },
  {
   "cell_type": "code",
   "execution_count": null,
   "metadata": {},
   "outputs": [],
   "source": [
    "def generating_corrido_tumbado(text,n_chars = 920,temperature=1):\n",
    "    for _ in range(n_chars):\n",
    "        text += next_char(text,temperature)\n",
    "        corrido = text, '\\n', text\n",
    "        return corrido"
   ]
  },
  {
   "cell_type": "code",
   "execution_count": null,
   "metadata": {},
   "outputs": [],
   "source": [
    "X_new = preprocess([\"Soy belic\"])\n",
    "Y_pred = modelo_neuronas_tumbadas.predict_classes(X_new)\n",
    "tokenizar.sequences_to_texts(Y_pred+1)[0][-1]\n",
    "#expected result 'o'"
   ]
  }
 ],
 "metadata": {
  "kernelspec": {
   "display_name": "Python 3",
   "language": "python",
   "name": "python3"
  },
  "language_info": {
   "codemirror_mode": {
    "name": "ipython",
    "version": 3
   },
   "file_extension": ".py",
   "mimetype": "text/x-python",
   "name": "python",
   "nbconvert_exporter": "python",
   "pygments_lexer": "ipython3",
   "version": "3.10.10"
  },
  "orig_nbformat": 4
 },
 "nbformat": 4,
 "nbformat_minor": 2
}
